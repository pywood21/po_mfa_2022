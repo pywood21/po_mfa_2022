{
 "cells": [
  {
   "cell_type": "markdown",
   "metadata": {},
   "source": [
    "### Radial/azimuthal data and save profiles for peak fitting.\n"
   ]
  },
  {
   "cell_type": "markdown",
   "metadata": {},
   "source": [
    "version 1.2.0  October 9, 2021"
   ]
  },
  {
   "cell_type": "markdown",
   "metadata": {},
   "source": [
    "This script consists of 3 parts: 1) reading .pkl data. 2) cropping ROI,  3) saving profiles (004, equator)."
   ]
  },
  {
   "cell_type": "code",
   "execution_count": null,
   "metadata": {},
   "outputs": [],
   "source": [
    "### vertical axis is converted to 2-theta axis by bilinear interpolation.\n",
    "### then coverted to polar coordinate and save data as pandas table.\n",
    "\n",
    "from common.xray import *\n",
    "%matplotlib inline\n",
    "\n",
    "my_data_path='put your data directory name'\n",
    "XRAY=RigakuRapid2()\n",
    "in_path,profile_path,image_path,figure_path,peakfit_path=XRAY.create_dir(my_data_path)\n",
    "#\n",
    "#\n",
    "img_names=sorted([filename for filename in os.listdir(image_path) if filename.endswith('.npy')])\n",
    "\n",
    "\n",
    "for i, fl_name in enumerate(img_names):\n",
    "    fn=fl_name.split('.')[0]\n",
    "    out=np.load(os.path.join(image_path,img_names[i])) # from image set data\n",
    "    df_imgs = XRAY.profile(out[:,:,2]) # from polar image\n",
    "    #img_004,df_004_radial,df_004_azimuth,img_eq,df_eq_radial,df_eq_azimuth=XRAY.me_eq(df_imgs) # extract profiles\n",
    "    results=XRAY.me_eq(df_imgs)\n",
    "    results[1].to_pickle(os.path.join(profile_path,fn+'_004_radial.pkl'))\n",
    "    results[2].to_pickle(os.path.join(profile_path,fn+'_004_azimuth.pkl'))\n",
    "    results[4].to_pickle(os.path.join(profile_path,fn+'_eq_radial.pkl'))\n",
    "    results[5].to_pickle(os.path.join(profile_path,fn+'_eq_azimuth.pkl')) \n",
    "    \n",
    "    \n",
    "    # (004) and equator are extracted \n",
    "    fig, ax =plt.subplots(nrows=3,ncols=2, figsize=(10,12))\n",
    "    fig.suptitle(fn, fontsize=18)\n",
    "\n",
    "    for i,y in enumerate([0,3]):\n",
    "        ax[0,i].imshow(np.sqrt(results[y]))\n",
    "        ax[0,i].set_title(legends[y][0],fontsize=12)\n",
    "        ax[0,i].axis(\"off\")\n",
    "\n",
    "    for i,y in enumerate([1,2,4,5]):\n",
    "        p,q=divmod(i,2)\n",
    "        ax[q+1,p].plot(results[y]) #radial profile (2 theta)\n",
    "        ax[q+1,p].set_xlabel(legends[y][0],fontsize=12)\n",
    "        ax[q+1,p].yaxis.set_ticklabels([])\n",
    "        ax[q+1,p].set_ylabel(legends[y][1],fontsize=12)\n",
    "\n",
    "    plt.savefig(os.path.join(figure_path,fn+'.jpg'),dpi=200)\n",
    "    plt.show()\n",
    "                              "
   ]
  },
  {
   "cell_type": "markdown",
   "metadata": {},
   "source": [
    "End of program"
   ]
  },
  {
   "cell_type": "code",
   "execution_count": null,
   "metadata": {},
   "outputs": [],
   "source": []
  }
 ],
 "metadata": {
  "kernelspec": {
   "display_name": "Python 3 (ipykernel)",
   "language": "python",
   "name": "python3"
  },
  "language_info": {
   "codemirror_mode": {
    "name": "ipython",
    "version": 3
   },
   "file_extension": ".py",
   "mimetype": "text/x-python",
   "name": "python",
   "nbconvert_exporter": "python",
   "pygments_lexer": "ipython3",
   "version": "3.9.10"
  }
 },
 "nbformat": 4,
 "nbformat_minor": 4
}
