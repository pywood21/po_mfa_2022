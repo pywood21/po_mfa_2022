{
 "cells": [
  {
   "cell_type": "markdown",
   "metadata": {},
   "source": [
    "### Handling multiple data for radial/azimuthal analysis.\n"
   ]
  },
  {
   "cell_type": "markdown",
   "metadata": {},
   "source": [
    "##### version 1.3.0  Oct 10, 2021"
   ]
  },
  {
   "cell_type": "markdown",
   "metadata": {},
   "source": [
    "This script consists of three parts: 1) loading multiple raw data, 2) converting cylindrical coordinates to Cartesian coordinates, 3) saving three types of image data in npz format, and 4) saving three images in jpeg format."
   ]
  },
  {
   "cell_type": "code",
   "execution_count": null,
   "metadata": {},
   "outputs": [],
   "source": [
    "### cylindirical coordinate is converted to carteresian coordinate by linear interpolation\n",
    "from common.xray import *\n",
    "%matplotlib inline"
   ]
  },
  {
   "cell_type": "code",
   "execution_count": null,
   "metadata": {},
   "outputs": [],
   "source": [
    "# this program needs Class RigakuRapid2()\n",
    "XRAY=RigakuRapid2()\n",
    "my_data_path='put your data directory name'\n",
    "in_path,profile_path,image_path,figure_path,peakfit_path=XRAY.create_dir(my_data_path)\n",
    "\n",
    "xrd_names=sorted([filename for filename in os.listdir(in_path) if not filename.startswith('.')])\n",
    "\n",
    "for fnm in xrd_names:\n",
    "    fn=fnm.split('.')[0]\n",
    "    im=XRAY.imread(os.path.join(in_path,fnm))\n",
    "    out=XRAY.conv_set(im)\n",
    "    np.save(os.path.join(image_path,fn),out)\n",
    "\n",
    "    fig, axes = plt.subplots(ncols=3,figsize=(15,5))\n",
    "    ids=['cylindrical projection', 'cartesian projection', 'polar projection']\n",
    "\n",
    "    for i in range(3):\n",
    "        axes[i].set_title(ids[i])\n",
    "        axes[i].imshow(out[:,:,i])\n",
    "        axes[i].axis('off')\n",
    "    fig.suptitle(fn, fontsize=16)\n",
    "    plt.savefig(os.path.join(image_path,fn+'.jpg'),dpi=300)\n",
    "    plt.show()\n"
   ]
  },
  {
   "cell_type": "markdown",
   "metadata": {},
   "source": [
    "End of programs. Results are in the directory ./results"
   ]
  }
 ],
 "metadata": {
  "kernelspec": {
   "display_name": "Python 3 (ipykernel)",
   "language": "python",
   "name": "python3"
  },
  "language_info": {
   "codemirror_mode": {
    "name": "ipython",
    "version": 3
   },
   "file_extension": ".py",
   "mimetype": "text/x-python",
   "name": "python",
   "nbconvert_exporter": "python",
   "pygments_lexer": "ipython3",
   "version": "3.9.10"
  }
 },
 "nbformat": 4,
 "nbformat_minor": 4
}
